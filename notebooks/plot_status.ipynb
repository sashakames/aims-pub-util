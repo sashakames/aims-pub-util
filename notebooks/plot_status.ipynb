{
 "cells": [
  {
   "cell_type": "code",
   "execution_count": 2,
   "id": "patent-vinyl",
   "metadata": {},
   "outputs": [],
   "source": [
    "import os\n",
    "from matplotlib import pyplot\n",
    "import numpy\n",
    "HD = os.environ[\"HOME\"]\n",
    "import time"
   ]
  },
  {
   "cell_type": "code",
   "execution_count": 6,
   "id": "precious-disabled",
   "metadata": {},
   "outputs": [
    {
     "data": {
      "image/png": "[encoded data removed]",
      "text/plain": [
       "<Figure size 432x288 with 1 Axes>"
      ]
     },
     "metadata": {
      "needs_background": "light"
     },
     "output_type": "display_data"
    }
   ],
   "source": [
    "for day in range(,31):\n",
    "    loc = HD + f\"/publish-queue/dset-status/dset-count.2104{day}.txt\"\n",
    "    table = numpy.loadtxt(loc, delimiter=\" \")\n",
    "    col = [x[2] for x in table]\n",
    "    res= pyplot.plot(col)"
   ]
  },
  {
   "cell_type": "code",
   "execution_count": 6,
   "id": "qualified-amplifier",
   "metadata": {
    "tags": []
   },
   "outputs": [],
   "source": [
    "import time"
   ]
  },
  {
   "cell_type": "code",
   "execution_count": 4,
   "id": "turned-authority",
   "metadata": {},
   "outputs": [
    {
     "data": {
      "text/plain": [
       "[1550.0, 6.0, 82490.0, 1135.0, 0.0]"
      ]
     },
     "execution_count": 4,
     "metadata": {},
     "output_type": "execute_result"
    }
   ],
   "source": [
    "list(table[-1])"
   ]
  },
  {
   "cell_type": "code",
   "execution_count": null,
   "id": "protecting-skiing",
   "metadata": {},
   "outputs": [],
   "source": []
  }
 ],
 "metadata": {
  "kernelspec": {
   "display_name": "Python [conda env:plotter]",
   "language": "python",
   "name": "conda-env-plotter-py"
  },
  "language_info": {
   "codemirror_mode": {
    "name": "ipython",
    "version": 3
   },
   "file_extension": ".py",
   "mimetype": "text/x-python",
   "name": "python",
   "nbconvert_exporter": "python",
   "pygments_lexer": "ipython3",
   "version": "3.8.8"
  }
 },
 "nbformat": 4,
 "nbformat_minor": 5
}
