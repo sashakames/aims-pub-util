{
 "cells": [
  {
   "cell_type": "code",
   "execution_count": 2,
   "id": "raising-indonesian",
   "metadata": {},
   "outputs": [],
   "source": [
    "import os\n",
    "from matplotlib import pyplot\n",
    "import numpy\n",
    "HD = os.environ[\"HOME\"]\n",
    "import time"
   ]
  },
  {
   "cell_type": "code",
   "execution_count": 4,
   "id": "similar-romance",
   "metadata": {},
   "outputs": [
    {
     "data": {
      "image/png": "[encoded data removed]",
      "text/plain": [
       "<Figure size 432x288 with 1 Axes>"
      ]
     },
     "metadata": {
      "needs_background": "light"
     },
     "output_type": "display_data"
    }
   ],
   "source": [
    "txt = []\n",
    "for day in range(1,4):\n",
    "    loc = HD + f\"/publish-queue/dset-status/dset-count.21060{day}.txt\"\n",
    "    table = numpy.loadtxt(loc, delimiter=\" \")\n",
    "    col = [x[4] for x in table]\n",
    "    res= pyplot.plot(col)\n",
    "    txt.append(day)"
   ]
  },
  {
   "cell_type": "code",
   "execution_count": 15,
   "id": "solved-purchase",
   "metadata": {
    "tags": []
   },
   "outputs": [
    {
     "data": {
      "text/plain": [
       "<matplotlib.legend.Legend at 0x7f368ae87a60>"
      ]
     },
     "execution_count": 15,
     "metadata": {},
     "output_type": "execute_result"
    },
    {
     "data": {
      "image/png": "[encoded data removed]",
      "text/plain": [
       "<Figure size 432x288 with 1 Axes>"
      ]
     },
     "metadata": {
      "needs_background": "light"
     },
     "output_type": "display_data"
    }
   ],
   "source": [
    "pyplot.legend(labels=txt)"
   ]
  },
  {
   "cell_type": "code",
   "execution_count": 4,
   "id": "forced-mistake",
   "metadata": {},
   "outputs": [
    {
     "data": {
      "text/plain": [
       "[1550.0, 6.0, 82490.0, 1135.0, 0.0]"
      ]
     },
     "execution_count": 4,
     "metadata": {},
     "output_type": "execute_result"
    }
   ],
   "source": [
    "list(table[-1])"
   ]
  },
  {
   "cell_type": "code",
   "execution_count": null,
   "id": "smoking-bidder",
   "metadata": {},
   "outputs": [],
   "source": []
  }
 ],
 "metadata": {
  "kernelspec": {
   "display_name": "Python [conda env:plotter]",
   "language": "python",
   "name": "conda-env-plotter-py"
  },
  "language_info": {
   "codemirror_mode": {
    "name": "ipython",
    "version": 3
   },
   "file_extension": ".py",
   "mimetype": "text/x-python",
   "name": "python",
   "nbconvert_exporter": "python",
   "pygments_lexer": "ipython3",
   "version": "3.8.8"
  }
 },
 "nbformat": 4,
 "nbformat_minor": 5
}
