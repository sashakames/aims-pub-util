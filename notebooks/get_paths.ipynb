{
 "cells": [
  {
   "cell_type": "code",
   "execution_count": 1,
   "id": "promotional-nutrition",
   "metadata": {},
   "outputs": [],
   "source": [
    "import os"
   ]
  },
  {
   "cell_type": "code",
   "execution_count": 3,
   "id": "standing-memory",
   "metadata": {},
   "outputs": [],
   "source": [
    "homedir = os.environ[\"HOME\"]"
   ]
  },
  {
   "cell_type": "code",
   "execution_count": 5,
   "id": "following-short",
   "metadata": {},
   "outputs": [],
   "source": [
    "inpath = homedir + \"/res.txt\""
   ]
  },
  {
   "cell_type": "code",
   "execution_count": 14,
   "id": "white-coaching",
   "metadata": {},
   "outputs": [],
   "source": [
    "resarr = []"
   ]
  },
  {
   "cell_type": "code",
   "execution_count": 15,
   "id": "similar-eleven",
   "metadata": {},
   "outputs": [],
   "source": [
    "for i, line in enumerate(open(inpath)):\n",
    "    parts = line.split('/')\n",
    "    if len(parts) == 9:\n",
    "        resarr.append(parts[1:9])"
   ]
  },
  {
   "cell_type": "code",
   "execution_count": 16,
   "id": "synthetic-energy",
   "metadata": {},
   "outputs": [
    {
     "name": "stdout",
     "output_type": "stream",
     "text": [
      "5111\n"
     ]
    }
   ],
   "source": [
    "print(len(resarr))"
   ]
  },
  {
   "cell_type": "code",
   "execution_count": 19,
   "id": "rocky-bumper",
   "metadata": {},
   "outputs": [],
   "source": [
    "with open(\"out.res.lst\", \"w\") as f:\n",
    "    for pp in resarr:\n",
    "        f.write(f\"/p/css03/esgf_publish/cmip5/gdo2/cmip5/output1/{'/'.join(pp)}\")"
   ]
  },
  {
   "cell_type": "code",
   "execution_count": 2,
   "id": "chubby-terrain",
   "metadata": {},
   "outputs": [
    {
     "data": {
      "text/plain": [
       "4"
      ]
     },
     "execution_count": 2,
     "metadata": {},
     "output_type": "execute_result"
    }
   ],
   "source": [
    "PATH = \"/p/user_pub/work/CMIP6/CMIP/\"\n",
    "parts = PATH.split('/')\n",
    "parts.index(\"CMIP6\")\n"
   ]
  },
  {
   "cell_type": "code",
   "execution_count": null,
   "id": "440e2521-7da6-4c33-a6a2-1d1875a84c41",
   "metadata": {},
   "outputs": [],
   "source": []
  }
 ],
 "metadata": {
  "kernelspec": {
   "display_name": "OLCF-base (ipykernel)",
   "language": "python",
   "name": "python3"
  },
  "language_info": {
   "codemirror_mode": {
    "name": "ipython",
    "version": 3
   },
   "file_extension": ".py",
   "mimetype": "text/x-python",
   "name": "python",
   "nbconvert_exporter": "python",
   "pygments_lexer": "ipython3",
   "version": "3.8.10"
  }
 },
 "nbformat": 4,
 "nbformat_minor": 5
}
