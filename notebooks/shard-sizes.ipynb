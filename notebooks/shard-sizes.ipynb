{
 "cells": [
  {
   "cell_type": "code",
   "execution_count": 1,
   "id": "greenhouse-architect",
   "metadata": {},
   "outputs": [],
   "source": [
    "import requests"
   ]
  },
  {
   "cell_type": "code",
   "execution_count": null,
   "id": "accurate-rocket",
   "metadata": {},
   "outputs": [],
   "source": []
  },
  {
   "cell_type": "code",
   "execution_count": 3,
   "id": "altered-rochester",
   "metadata": {},
   "outputs": [],
   "source": [
    "import os\n",
    "HD = os.environ[\"HOME\"]"
   ]
  },
  {
   "cell_type": "code",
   "execution_count": 28,
   "id": "super-journalist",
   "metadata": {},
   "outputs": [],
   "source": [
    "data = [line.rstrip().split() for line in open(f\"{HD}/page-res/shard-sizes.txt\")]"
   ]
  },
  {
   "cell_type": "code",
   "execution_count": 26,
   "id": "adult-lightweight",
   "metadata": {},
   "outputs": [],
   "source": [
    "URLTEMPLATE = \"http://{}/esg-search/search/?type={}&format=application%2fsolr%2bjson&limit=0&distrib=false\""
   ]
  },
  {
   "cell_type": "code",
   "execution_count": 29,
   "id": "automotive-confidence",
   "metadata": {},
   "outputs": [],
   "source": [
    "for iter in data:\n",
    "    tst = iter[1]\n",
    "    i1=tst.index('/')\n",
    "    i2=tst.index('8')\n",
    "    val = tst[i1+1:i2-1]\n",
    "    if '.' in val:\n",
    "        for dt in [\"Dataset\" , \"File\"]:\n",
    "            resp = requests.get(URLTEMPLATE.format(val, dt))\n",
    "            dsres = resp.json()\n",
    "            iter.append(dsres[\"response\"][\"numFound\"])"
   ]
  },
  {
   "cell_type": "code",
   "execution_count": 31,
   "id": "suited-joshua",
   "metadata": {},
   "outputs": [],
   "source": [
    "llnl = []\n",
    "for dt in [\"Dataset\" , \"File\"]:\n",
    "    resp = requests.get(URLTEMPLATE.format(\"esgf-node.llnl.gov\", dt))\n",
    "    dsres = resp.json()\n",
    "    llnl.append(dsres[\"response\"][\"numFound\"])"
   ]
  },
  {
   "cell_type": "code",
   "execution_count": 87,
   "id": "proprietary-fifth",
   "metadata": {},
   "outputs": [],
   "source": [
    "dtable = [x for x in dtable]"
   ]
  },
  {
   "cell_type": "code",
   "execution_count": 91,
   "id": "final-courage",
   "metadata": {},
   "outputs": [],
   "source": [
    "data[9].append(llnl[1])"
   ]
  },
  {
   "cell_type": "code",
   "execution_count": 46,
   "id": "understanding-serbia",
   "metadata": {},
   "outputs": [],
   "source": [
    "for iter in data:\n",
    "    iter[0] = int(iter[0])"
   ]
  },
  {
   "cell_type": "code",
   "execution_count": 45,
   "id": "stylish-colon",
   "metadata": {},
   "outputs": [],
   "source": [
    "from matplotlib import pyplot"
   ]
  },
  {
   "cell_type": "code",
   "execution_count": 75,
   "id": "dirty-conservative",
   "metadata": {},
   "outputs": [],
   "source": [
    "data[9][0] = int(data[9][0])"
   ]
  },
  {
   "cell_type": "code",
   "execution_count": 48,
   "id": "studied-nebraska",
   "metadata": {},
   "outputs": [],
   "source": [
    "import numpy"
   ]
  },
  {
   "cell_type": "code",
   "execution_count": 49,
   "id": "expensive-assumption",
   "metadata": {},
   "outputs": [
    {
     "data": {
      "text/plain": [
       "array([['958', '23565', '19712', '13840', '45', '11462', '6439', '8531',\n",
       "        '591', '133531'],\n",
       "       ['solr-home/esgdata.gfdl.noaa.gov-8995',\n",
       "        'solr-home/esg-dn1.nsc.liu.se-8990',\n",
       "        'solr-home/esgf-data.dkrz.de-8985',\n",
       "        'solr-home/esgf-index1.ceda.ac.uk-8987',\n",
       "        'solr-home/esgf-index3.ceda.ac.uk-8994',\n",
       "        'solr-home/esgf-index4.ceda.ac.uk-8997',\n",
       "        'solr-home/esgf.nci.org.au-8993',\n",
       "        'solr-home/esgf-node.ipsl.upmc.fr-8988',\n",
       "        'solr-home/esg.pik-potsdam.de-8996', 'solr-home/slave-8983'],\n",
       "       ['27290', '923662', '1071051', '484907', '125', '456076',\n",
       "        '246817', '1224249', '111287', '6744346'],\n",
       "       ['874457', '11749949', '9191756', '6647438', '125', '5984430',\n",
       "        '3421784', '1919540', '143188', '29799827'],\n",
       "       ['901747', '12673611', '10262807', '7132345', '250', '6440506',\n",
       "        '3668601', '3143789', '254475', '36544173']], dtype='<U37')"
      ]
     },
     "execution_count": 49,
     "metadata": {},
     "output_type": "execute_result"
    }
   ],
   "source": [
    "numpy.transpose(lst)"
   ]
  },
  {
   "cell_type": "code",
   "execution_count": 92,
   "id": "noted-classification",
   "metadata": {},
   "outputs": [],
   "source": [
    "dtable = []\n",
    "for iter in data:\n",
    "    dtable.append(list(filter(lambda x: x if (type(x) is int) else None, iter)))"
   ]
  },
  {
   "cell_type": "code",
   "execution_count": 94,
   "id": "packed-spiritual",
   "metadata": {},
   "outputs": [],
   "source": [
    "dtable = numpy.transpose(dtable)"
   ]
  },
  {
   "cell_type": "code",
   "execution_count": 115,
   "id": "strategic-playback",
   "metadata": {},
   "outputs": [
    {
     "data": {
      "text/plain": [
       "<matplotlib.collections.PathCollection at 0x7f3389478dc0>"
      ]
     },
     "execution_count": 115,
     "metadata": {},
     "output_type": "execute_result"
    },
    {
     "data": {
      "image/png": "[encoded data removed]",
      "text/plain": [
       "<Figure size 432x288 with 1 Axes>"
      ]
     },
     "metadata": {
      "needs_background": "light"
     },
     "output_type": "display_data"
    }
   ],
   "source": [
    "pyplot.scatter(x=dtable[3],y=dtable[0])"
   ]
  },
  {
   "cell_type": "code",
   "execution_count": 109,
   "id": "operational-entrance",
   "metadata": {},
   "outputs": [],
   "source": [
    "dtable[3][10] = 36544173"
   ]
  },
  {
   "cell_type": "code",
   "execution_count": 102,
   "id": "radical-subscriber",
   "metadata": {},
   "outputs": [
    {
     "data": {
      "text/plain": [
       "array([[     958,    23565,    19712,    13840,       45,    11462,\n",
       "            6439,     8531,      591,    93333,   133531],\n",
       "       [   27290,   923662,  1071051,   484907,      125,   456076,\n",
       "          246817,  1224249,   111287,  6744346,  6744346],\n",
       "       [  874457, 11749949,  9191756,  6647438,      125,  5984430,\n",
       "         3421784,  1919540,   143188, 36544173, 29799827],\n",
       "       [  901747, 12673611, 10262807,  7132345,      250,  6440506,\n",
       "         3668601,  3143789,   254475, 29799827, 36544173]])"
      ]
     },
     "execution_count": 102,
     "metadata": {},
     "output_type": "execute_result"
    }
   ],
   "source": [
    "dtable"
   ]
  },
  {
   "cell_type": "code",
   "execution_count": 105,
   "id": "medieval-subsection",
   "metadata": {},
   "outputs": [
    {
     "data": {
      "text/plain": [
       "[6744346, 29799827]"
      ]
     },
     "execution_count": 105,
     "metadata": {},
     "output_type": "execute_result"
    }
   ],
   "source": [
    "llnl"
   ]
  },
  {
   "cell_type": "code",
   "execution_count": 110,
   "id": "distributed-tissue",
   "metadata": {},
   "outputs": [
    {
     "data": {
      "text/plain": [
       "array([[     958,    23565,    19712,    13840,       45,    11462,\n",
       "            6439,     8531,      591,    93333,   133531],\n",
       "       [   27290,   923662,  1071051,   484907,      125,   456076,\n",
       "          246817,  1224249,   111287,  6744346,  6744346],\n",
       "       [  874457, 11749949,  9191756,  6647438,      125,  5984430,\n",
       "         3421784,  1919540,   143188, 29799827, 29799827],\n",
       "       [  901747, 12673611, 10262807,  7132345,      250,  6440506,\n",
       "         3668601,  3143789,   254475, 36544173, 36544173]])"
      ]
     },
     "execution_count": 110,
     "metadata": {},
     "output_type": "execute_result"
    }
   ],
   "source": [
    "dtable"
   ]
  },
  {
   "cell_type": "code",
   "execution_count": null,
   "id": "worldwide-holder",
   "metadata": {},
   "outputs": [],
   "source": []
  }
 ],
 "metadata": {
  "kernelspec": {
   "display_name": "Python [conda env:plotter]",
   "language": "python",
   "name": "conda-env-plotter-py"
  },
  "language_info": {
   "codemirror_mode": {
    "name": "ipython",
    "version": 3
   },
   "file_extension": ".py",
   "mimetype": "text/x-python",
   "name": "python",
   "nbconvert_exporter": "python",
   "pygments_lexer": "ipython3",
   "version": "3.8.8"
  }
 },
 "nbformat": 4,
 "nbformat_minor": 5
}
