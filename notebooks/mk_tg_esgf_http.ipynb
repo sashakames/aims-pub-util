{
 "cells": [
  {
   "cell_type": "code",
   "execution_count": null,
   "id": "starting-panic",
   "metadata": {},
   "outputs": [],
   "source": [
    "import requests, json"
   ]
  },
  {
   "cell_type": "code",
   "execution_count": 15,
   "id": "guided-instrument",
   "metadata": {},
   "outputs": [],
   "source": [
    "SEARCHURL = \"https://esgf-node.llnl.gov/esg-search/search/?format=application%2Fsolr%2Bjson&facets={}&limit=0\"\n",
    "NTYPE = \"index_node\"\n",
    "resp = requests.get(SEARCHURL.format(NTYPE))\n",
    "\n",
    "jresp = resp.json()"
   ]
  },
  {
   "cell_type": "code",
   "execution_count": 16,
   "id": "enclosed-symphony",
   "metadata": {},
   "outputs": [],
   "source": [
    "res_arr = jresp[\"facet_counts\"][\"facet_fields\"][NTYPE][::2]"
   ]
  },
  {
   "cell_type": "code",
   "execution_count": 17,
   "id": "spanish-carry",
   "metadata": {},
   "outputs": [
    {
     "data": {
      "text/plain": [
       "10"
      ]
     },
     "execution_count": 17,
     "metadata": {},
     "output_type": "execute_result"
    }
   ],
   "source": [
    "len(res_arr)"
   ]
  },
  {
   "cell_type": "code",
   "execution_count": null,
   "id": "russian-economy",
   "metadata": {},
   "outputs": [],
   "source": [
    "out_arr = []"
   ]
  },
  {
   "cell_type": "code",
   "execution_count": 19,
   "id": "awful-protein",
   "metadata": {},
   "outputs": [],
   "source": [
    "# TARGET_URLS = [ \"https://{}/thredds/catalog/catalog.html\",      \"https://{}/esg-orp/home.htm\"     ]\n",
    "TARGET_URLS = [ \"https://{}/esg-search/search/?limit=0&format=application%2Fsolr%2Bjson&distrib=false&query=na:na\",\n",
    "\"https://{}/\" ]\n",
    "\n",
    "for node in res_arr:\n",
    "    if \"eosdis\" in node:\n",
    "        continue\n",
    "    rec = {}\n",
    "    rec[\"labels\"] = { \"instance\" : node }\n",
    "    rec[\"targets\"] = [url.format(node) for url in TARGET_URLS]\n",
    "    out_arr.append(rec)"
   ]
  },
  {
   "cell_type": "code",
   "execution_count": 20,
   "id": "colonial-dialogue",
   "metadata": {},
   "outputs": [
    {
     "data": {
      "text/plain": [
       "64"
      ]
     },
     "execution_count": 20,
     "metadata": {},
     "output_type": "execute_result"
    }
   ],
   "source": [
    "len(out_arr)"
   ]
  },
  {
   "cell_type": "code",
   "execution_count": 21,
   "id": "random-uncertainty",
   "metadata": {},
   "outputs": [],
   "source": [
    "outstr = json.dumps(out_arr, indent=1)\n",
    "with open(\"tg_esgf_http.yml\", \"w\") as f:\n",
    "    f.write(outstr)"
   ]
  },
  {
   "cell_type": "code",
   "execution_count": null,
   "id": "rocky-thumb",
   "metadata": {},
   "outputs": [],
   "source": []
  }
 ],
 "metadata": {
  "kernelspec": {
   "display_name": "Python [conda env:esgfpub]",
   "language": "python",
   "name": "conda-env-esgfpub-py"
  },
  "language_info": {
   "codemirror_mode": {
    "name": "ipython",
    "version": 3
   },
   "file_extension": ".py",
   "mimetype": "text/x-python",
   "name": "python",
   "nbconvert_exporter": "python",
   "pygments_lexer": "ipython3",
   "version": "3.8.8"
  }
 },
 "nbformat": 4,
 "nbformat_minor": 5
}
