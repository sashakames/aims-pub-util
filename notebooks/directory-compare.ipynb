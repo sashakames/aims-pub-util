{
 "cells": [
  {
   "cell_type": "code",
   "execution_count": 1,
   "metadata": {},
   "outputs": [],
   "source": [
    "import sqlite3"
   ]
  },
  {
   "cell_type": "code",
   "execution_count": 44,
   "metadata": {
    "tags": []
   },
   "outputs": [
    {
     "name": "stdout",
     "output_type": "stream",
     "text": [
      "3921401\n"
     ]
    }
   ],
   "source": [
    "f=open(\"publish-queue/inconsistencies/210330_1700/have_replicas.txt\")\n",
    "replica_dict = {}\n",
    "d=replica_dict\n",
    "for line in f:\n",
    "    p = line.rstrip().split(\".\")\n",
    "    master='.'.join(p[0:-1])\n",
    "    version = int(p[-1][1:])\n",
    "    if not master in d:\n",
    "        d[master] = [version]\n",
    "    else:\n",
    "        x = d[master]\n",
    "        x.append(version)\n",
    "        d[master] =x\n",
    "print(len(d))"
   ]
  },
  {
   "cell_type": "code",
   "execution_count": 3,
   "metadata": {},
   "outputs": [
    {
     "name": "stdout",
     "output_type": "stream",
     "text": [
      "4248136\n"
     ]
    }
   ],
   "source": [
    "fn = '/p/user_pub/xclim/persist/xml.db'\n",
    "conn = sqlite3.connect(fn)\n",
    "conn.row_factory = sqlite3.Row\n",
    "cr = conn.execute(\"select path from paths where mip_era='CMIP6' and retired = 0;\")\n",
    "res = list(cr.fetchall())\n",
    "print(len(res))\n",
    "hr_list = []\n",
    "sql_list = res"
   ]
  },
  {
   "cell_type": "code",
   "execution_count": 2,
   "metadata": {},
   "outputs": [],
   "source": [
    "fn = '/p/user_pub/xclim/persist/xml.db'\n",
    "conn = sqlite3.connect(fn)\n",
    "conn.row_factory = sqlite3.Row"
   ]
  },
  {
   "cell_type": "code",
   "execution_count": null,
   "metadata": {},
   "outputs": [],
   "source": [
    "cr = conn.execute(\"select * from paths limit 1\")"
   ]
  },
  {
   "cell_type": "code",
   "execution_count": 45,
   "metadata": {
    "tags": []
   },
   "outputs": [],
   "source": [
    "outlst = []\n",
    "gtlist = []"
   ]
  },
  {
   "cell_type": "code",
   "execution_count": 50,
   "metadata": {},
   "outputs": [
    {
     "data": {
      "text/plain": [
       "4138781"
      ]
     },
     "execution_count": 50,
     "metadata": {},
     "output_type": "execute_result"
    }
   ],
   "source": [
    "len(sql_res)"
   ]
  },
  {
   "cell_type": "code",
   "execution_count": 35,
   "metadata": {
    "tags": []
   },
   "outputs": [],
   "source": [
    "def gt(a,x):\n",
    "    for n in a:\n",
    "        if n >= x:\n",
    "            return False\n",
    "    return True"
   ]
  },
  {
   "cell_type": "code",
   "execution_count": 49,
   "metadata": {},
   "outputs": [
    {
     "name": "stdout",
     "output_type": "stream",
     "text": [
      "CPU times: user 2 µs, sys: 0 ns, total: 2 µs\n",
      "Wall time: 5.01 µs\n",
      "95829\n"
     ]
    }
   ],
   "source": [
    "%time\n",
    "\n",
    "for line in sql_res:\n",
    "    p = line.split(\"/\")\n",
    "    if len(p) == 15:\n",
    "        master='.'.join(p[4:-2])\n",
    "        version = int(p[-2][1:])\n",
    "        if master not in d:\n",
    "            outlst.append([master, version])\n",
    "        else:\n",
    "            sv_vers = d[master]\n",
    "            if gt(sv_vers, version):\n",
    "                gtlist.append([master, version])\n",
    "                \n",
    "print(len(outlst))"
   ]
  },
  {
   "cell_type": "code",
   "execution_count": 51,
   "metadata": {},
   "outputs": [],
   "source": [
    "conv= []\n",
    "for x in outlst:\n",
    "    conv.append([x[0].replace('.','/'), str(x[1])])"
   ]
  },
  {
   "cell_type": "code",
   "execution_count": 52,
   "metadata": {
    "tags": []
   },
   "outputs": [
    {
     "name": "stdout",
     "output_type": "stream",
     "text": [
      "CPU times: user 2 µs, sys: 0 ns, total: 2 µs\n",
      "Wall time: 4.77 µs\n"
     ]
    }
   ],
   "source": [
    "%time\n",
    "outf = open(f\"missings/missing-paths-{str(dt)}.txt\", \"w\")\n",
    "for it in conv:\n",
    "    print(\"/\".join(it), file=outf)\n",
    "outf.close()"
   ]
  },
  {
   "cell_type": "code",
   "execution_count": null,
   "metadata": {},
   "outputs": [],
   "source": []
  }
 ],
 "metadata": {
  "kernelspec": {
   "display_name": "Python 3",
   "language": "python",
   "name": "python3"
  },
  "language_info": {
   "codemirror_mode": {
    "name": "ipython",
    "version": 3
   },
   "file_extension": ".py",
   "mimetype": "text/x-python",
   "name": "python",
   "nbconvert_exporter": "python",
   "pygments_lexer": "ipython3",
   "version": "3.8.8"
  }
 },
 "nbformat": 4,
 "nbformat_minor": 4
}
