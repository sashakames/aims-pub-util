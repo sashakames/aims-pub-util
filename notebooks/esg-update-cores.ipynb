{
 "cells": [
  {
   "cell_type": "code",
   "execution_count": 1,
   "metadata": {},
   "outputs": [],
   "source": [
    "import requests"
   ]
  },
  {
   "cell_type": "code",
   "execution_count": 12,
   "metadata": {},
   "outputs": [],
   "source": [
    "import  json\n",
    "from esgcet.update import ESGPubUpdate\n",
    "\n",
    "CERT = \"/p/user_pub/publish-queue/certs/certificate-file\"  # PRepend path\n",
    "INDEX_NODE = \"esgf-node.llnl.gov\""
   ]
  },
  {
   "cell_type": "code",
   "execution_count": 3,
   "metadata": {},
   "outputs": [],
   "source": [
    "dsets = json.load(open(\"page_search.resp.json\"))"
   ]
  },
  {
   "cell_type": "code",
   "execution_count": 8,
   "metadata": {},
   "outputs": [],
   "source": [
    "query=\"http://esgf-node.llnl.gov/esg-search/search?\\\n",
    "format=application%2Fsolr%2bjson&limit=0&distrib=false&latest=true&replica=true&\\\n",
    "data_node=aims3.llnl.gov,esgf-data1.llnl.gov\""
   ]
  },
  {
   "cell_type": "code",
   "execution_count": 10,
   "metadata": {
    "tags": []
   },
   "outputs": [],
   "source": [
    "resp = requests.get(query)"
   ]
  },
  {
   "cell_type": "code",
   "execution_count": 9,
   "metadata": {},
   "outputs": [],
   "source": [
    "START = 2"
   ]
  },
  {
   "cell_type": "code",
   "execution_count": 15,
   "metadata": {},
   "outputs": [
    {
     "data": {
      "text/plain": [
       "3955558"
      ]
     },
     "execution_count": 15,
     "metadata": {},
     "output_type": "execute_result"
    }
   ],
   "source": [
    "jobj=resp.json()\n",
    "jobj[\"response\"][\"numFound\"]"
   ]
  },
  {
   "cell_type": "code",
   "execution_count": null,
   "metadata": {
    "tags": []
   },
   "outputs": [],
   "source": [
    "FINISH = 102\n",
    "for rec in dsets[START:FINISH]:\n",
    "    d_id = rec['id']\n",
    "    if 'llnl' in d_id:\n",
    "        print(d_id)\n",
    "        upd.update_core(d_id, \"files\")"
   ]
  },
  {
   "cell_type": "code",
   "execution_count": 8,
   "metadata": {},
   "outputs": [],
   "source": [
    "upd = ESGPubUpdate(INDEX_NODE, CERT, silent=True)"
   ]
  },
  {
   "cell_type": "code",
   "execution_count": null,
   "metadata": {},
   "outputs": [],
   "source": [
    "3921407"
   ]
  }
 ],
 "metadata": {
  "kernelspec": {
   "display_name": "esgfpub",
   "language": "python",
   "name": "esgfpub"
  },
  "language_info": {
   "codemirror_mode": {
    "name": "ipython",
    "version": 3
   },
   "file_extension": ".py",
   "mimetype": "text/x-python",
   "name": "python",
   "nbconvert_exporter": "python",
   "pygments_lexer": "ipython3",
   "version": "3.8.8"
  }
 },
 "nbformat": 4,
 "nbformat_minor": 4
}
